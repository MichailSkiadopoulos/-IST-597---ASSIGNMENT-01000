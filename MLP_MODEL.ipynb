{
  "nbformat": 4,
  "nbformat_minor": 0,
  "metadata": {
    "colab": {
      "provenance": [],
      "authorship_tag": "ABX9TyO3AWugMZL/RXmIw8CEPwSj",
      "include_colab_link": true
    },
    "kernelspec": {
      "name": "python3",
      "display_name": "Python 3"
    },
    "language_info": {
      "name": "python"
    }
  },
  "cells": [
    {
      "cell_type": "markdown",
      "metadata": {
        "id": "view-in-github",
        "colab_type": "text"
      },
      "source": [
        "<a href=\"https://colab.research.google.com/github/MichailSkiadopoulos/-IST-597---ASSIGNMENT-01000/blob/main/MLP_MODEL.ipynb\" target=\"_parent\"><img src=\"https://colab.research.google.com/assets/colab-badge.svg\" alt=\"Open In Colab\"/></a>"
      ]
    },
    {
      "cell_type": "code",
      "source": [
        "# Load Library\n",
        "import os\n",
        "from tensorflow.keras import Sequential\n",
        "from tensorflow.keras.layers import Dense\n",
        "from tensorflow.keras.layers import Dropout\n",
        "import numpy as np\n",
        "import pandas as pd\n",
        "import time\n",
        "import tensorflow as tf\n",
        "from tensorflow import keras\n",
        "import matplotlib.pyplot as plt\n",
        "from sklearn.model_selection import train_test_split\n",
        "import math\n",
        "from math import sqrt\n",
        "from google.colab import drive\n",
        "from scipy.interpolate import CubicSpline\n",
        "from sklearn.metrics import confusion_matrix, ConfusionMatrixDisplay\n",
        "from sklearn.metrics import accuracy_score\n",
        "np.random.seed(2)\n",
        "tf.random.set_seed(2)"
      ],
      "metadata": {
        "id": "mqhKB4YEcRZZ"
      },
      "execution_count": null,
      "outputs": []
    },
    {
      "cell_type": "code",
      "source": [
        "# Load Drive\n",
        "drive.mount('/content/drive/')\n",
        "path = '/content/drive/My Drive/Colab Notebooks/Porosity characterization/'"
      ],
      "metadata": {
        "id": "33DNHhIgcghs",
        "colab": {
          "base_uri": "https://localhost:8080/"
        },
        "outputId": "ef720682-2ff1-4a2e-c450-886e9a5caa60"
      },
      "execution_count": null,
      "outputs": [
        {
          "output_type": "stream",
          "name": "stdout",
          "text": [
            "Mounted at /content/drive/\n"
          ]
        }
      ]
    },
    {
      "cell_type": "code",
      "source": [
        "# Load Data\n",
        "time_start = time.time()\n",
        "filename = 'POROSITY' #Valid options are POROSITY or POROSITY&PORESIZE or POROSITY&PORESIZE&STD\n",
        "\n",
        "xdf = np.loadtxt('{}data.txt'.format(path, filename)) #Time signals usesd as input to the ML\n",
        "ydf = np.loadtxt('{}info.txt'.format(path, filename)) #Category Label vector\n",
        "\n",
        "if filename == 'POROSITY':\n",
        "  categoryNumber = 3 \n",
        "elif filename == 'POROSITY&PORESIZE':\n",
        "  categoryNumber = 12\n",
        "elif filename == 'POROSITY&PORESIZE&STD':\n",
        "  categoryNumber = 36\n",
        "\n",
        "time_taken = time.time() - time_start\n",
        "print('\\nTotal time taken loading data (in seconds): {:.2f}'.format(time_taken))"
      ],
      "metadata": {
        "colab": {
          "base_uri": "https://localhost:8080/"
        },
        "id": "3U5H2DqlTaeg",
        "outputId": "607dcab5-ea8f-4a38-fb63-7286d8c4e9e2"
      },
      "execution_count": null,
      "outputs": [
        {
          "output_type": "stream",
          "name": "stdout",
          "text": [
            "\n",
            "Total time taken loading data (in seconds): 69.75\n"
          ]
        }
      ]
    },
    {
      "cell_type": "code",
      "source": [
        "ydf"
      ],
      "metadata": {
        "colab": {
          "base_uri": "https://localhost:8080/"
        },
        "id": "F46fvSkAgJdK",
        "outputId": "a347691c-3689-42ef-f3b8-0888d67d1e73"
      },
      "execution_count": null,
      "outputs": [
        {
          "output_type": "execute_result",
          "data": {
            "text/plain": [
              "array([ 0.,  0.,  0., ..., 11., 11., 11.])"
            ]
          },
          "metadata": {},
          "execution_count": 5
        }
      ]
    },
    {
      "cell_type": "code",
      "source": [
        "print(xdf.shape[1])"
      ],
      "metadata": {
        "colab": {
          "base_uri": "https://localhost:8080/"
        },
        "id": "SDDd3ENAdfxe",
        "outputId": "0281b4cd-0f78-45cb-8d67-61ff696f0b43"
      },
      "execution_count": null,
      "outputs": [
        {
          "output_type": "stream",
          "name": "stdout",
          "text": [
            "58398\n"
          ]
        }
      ]
    },
    {
      "cell_type": "code",
      "source": [
        "# Split Data\n",
        "\n",
        "train_ratio = 0.95\n",
        "\n",
        "X_train, X_test, y_train, y_test = train_test_split(xdf, ydf, test_size=(1-train_ratio))"
      ],
      "metadata": {
        "id": "ItWK5nTIcmIL"
      },
      "execution_count": null,
      "outputs": []
    },
    {
      "cell_type": "code",
      "source": [
        "print(y_test.shape[0])"
      ],
      "metadata": {
        "colab": {
          "base_uri": "https://localhost:8080/"
        },
        "id": "Ktq36T44QYkx",
        "outputId": "a437ff93-2658-4150-9d9c-4d329459253a"
      },
      "execution_count": null,
      "outputs": [
        {
          "output_type": "stream",
          "name": "stdout",
          "text": [
            "51\n"
          ]
        }
      ]
    },
    {
      "cell_type": "code",
      "source": [
        "# Print Size\n",
        "print(\"X_train Size:\" + str(X_train.shape))\n",
        "print(\"X_test Size:\" + str(X_test.shape))\n",
        "\n",
        "print(\"y_train Size:\" + str(y_train.shape))\n",
        "print(\"y_test Size:\" + str(y_test.shape))"
      ],
      "metadata": {
        "colab": {
          "base_uri": "https://localhost:8080/"
        },
        "id": "AmUZ9akRc_5N",
        "outputId": "4a0f4cff-0838-4e16-8c24-33d6842c5171"
      },
      "execution_count": null,
      "outputs": [
        {
          "output_type": "stream",
          "name": "stdout",
          "text": [
            "X_train Size:(951, 58398)\n",
            "X_test Size:(51, 58398)\n",
            "y_train Size:(951,)\n",
            "y_test Size:(51,)\n"
          ]
        }
      ]
    },
    {
      "cell_type": "code",
      "source": [
        "# Rescale data \n",
        "mmax=np.max(abs(X_train))\n",
        "X_train=tf.cast(X_train,dtype=tf.float32)\n",
        "X_test=tf.cast(X_test,dtype=tf.float32)\n",
        "X_train=X_train/mmax\n",
        "X_test=X_test/mmax"
      ],
      "metadata": {
        "id": "EPazHbEydED3"
      },
      "execution_count": null,
      "outputs": []
    },
    {
      "cell_type": "code",
      "source": [
        "# Details of input & output data\n",
        "\n",
        "print(\"Training input data range: \\nFrom \" + str(np.min(X_train)) + \" to \" + str(np.max(X_train)))\n",
        "print(\"Testing input data range: \\nFrom \" + str(np.min(X_test)) + \" to \" + str(np.max(X_test)))\n",
        "\n",
        "print(\"\\nTraining target data: \")\n",
        "print(set(list(y_train)))\n",
        "\n",
        "print(\"\\nTesting target data: \")\n",
        "print(set(list(y_test)))"
      ],
      "metadata": {
        "colab": {
          "base_uri": "https://localhost:8080/"
        },
        "id": "_azxIdFKdG8H",
        "outputId": "bb7de0a5-9ea7-47e2-ce1c-9a6b4702f6d4"
      },
      "execution_count": null,
      "outputs": [
        {
          "output_type": "stream",
          "name": "stdout",
          "text": [
            "Training input data range: \n",
            "From -0.84432423 to 1.0\n",
            "Testing input data range: \n",
            "From -0.84302443 to 1.0\n",
            "\n",
            "Training target data: \n",
            "{0.0, 1.0, 2.0, 3.0, 4.0, 5.0, 6.0, 7.0, 8.0, 9.0, 10.0, 11.0}\n",
            "\n",
            "Testing target data: \n",
            "{0.0, 1.0, 2.0, 3.0, 4.0, 5.0, 6.0, 7.0, 8.0, 9.0, 10.0, 11.0}\n"
          ]
        }
      ]
    },
    {
      "cell_type": "markdown",
      "source": [
        "## Build MLP using Eager Execution & custom optimizer"
      ],
      "metadata": {
        "id": "CHUDq3oOdvA4"
      }
    },
    {
      "cell_type": "code",
      "source": [
        "# define the model\n",
        "model = Sequential()\n",
        "\n",
        "initializer = tf.keras.initializers.RandomNormal(mean=0., stddev=0.1)\n",
        "\n",
        "model.add(Dense(144, kernel_initializer=initializer, bias_initializer='zeros', activation='relu', input_shape=(58398,)))\n",
        "\n",
        "model.add(Dense(144, kernel_initializer=initializer, bias_initializer='zeros', activation='relu',kernel_regularizer=keras.regularizers.l2(l=0.1)))\n",
        "\n",
        "model.add(Dense(24, kernel_initializer=initializer, bias_initializer='zeros', activation='relu',kernel_regularizer=keras.regularizers.l2(l=0.1)))\n",
        "\n",
        "model.add(Dense(categotyNumber, kernel_initializer=initializer, bias_initializer='zeros', activation='softmax'))\n",
        "# compile the model\n",
        "opt=tf.keras.optimizers.Adam(\n",
        "    learning_rate=0.001,\n",
        "    beta_1=0.9,\n",
        "    beta_2=0.999,\n",
        "    epsilon=1e-08,\n",
        "    amsgrad=False,\n",
        "    name='AdamW')\n",
        "model.compile(optimizer=opt, loss='sparse_categorical_crossentropy', metrics=['accuracy'])\n",
        "\n",
        "callback = tf.keras.callbacks.EarlyStopping(monitor='loss', patience=3)"
      ],
      "metadata": {
        "id": "7HXXbYKGeFfs"
      },
      "execution_count": null,
      "outputs": []
    },
    {
      "cell_type": "markdown",
      "source": [
        "## Train Model:"
      ],
      "metadata": {
        "id": "rV8yQU4hhTgZ"
      }
    },
    {
      "cell_type": "code",
      "execution_count": null,
      "metadata": {
        "id": "k6T0r8IMv1ZD",
        "colab": {
          "base_uri": "https://localhost:8080/",
          "height": 1000
        },
        "outputId": "4ee2c19d-fffe-4047-c85f-a2a52a75c097"
      },
      "outputs": [
        {
          "output_type": "stream",
          "name": "stdout",
          "text": [
            "Epoch 1/50\n",
            "113/113 [==============================] - 5s 42ms/step - loss: 15.4124 - accuracy: 0.1251 - val_loss: 8.2666 - val_accuracy: 0.1250\n",
            "Epoch 2/50\n",
            "113/113 [==============================] - 5s 40ms/step - loss: 5.6615 - accuracy: 0.1440 - val_loss: 4.0801 - val_accuracy: 0.1667\n",
            "Epoch 3/50\n",
            "113/113 [==============================] - 4s 40ms/step - loss: 3.3440 - accuracy: 0.1484 - val_loss: 3.0171 - val_accuracy: 0.0833\n",
            "Epoch 4/50\n",
            "113/113 [==============================] - 5s 41ms/step - loss: 2.6416 - accuracy: 0.1628 - val_loss: 2.6232 - val_accuracy: 0.0625\n",
            "Epoch 5/50\n",
            "113/113 [==============================] - 5s 41ms/step - loss: 2.3936 - accuracy: 0.1794 - val_loss: 2.4381 - val_accuracy: 0.2083\n",
            "Epoch 6/50\n",
            "113/113 [==============================] - 5s 41ms/step - loss: 2.2406 - accuracy: 0.1872 - val_loss: 2.3363 - val_accuracy: 0.2292\n",
            "Epoch 7/50\n",
            "113/113 [==============================] - 5s 41ms/step - loss: 2.1299 - accuracy: 0.2326 - val_loss: 2.2331 - val_accuracy: 0.1458\n",
            "Epoch 8/50\n",
            "113/113 [==============================] - 5s 40ms/step - loss: 2.0693 - accuracy: 0.2171 - val_loss: 2.1733 - val_accuracy: 0.2292\n",
            "Epoch 9/50\n",
            "113/113 [==============================] - 5s 41ms/step - loss: 2.0473 - accuracy: 0.2536 - val_loss: 2.1627 - val_accuracy: 0.1875\n",
            "Epoch 10/50\n",
            "113/113 [==============================] - 5s 40ms/step - loss: 1.9841 - accuracy: 0.2614 - val_loss: 2.0805 - val_accuracy: 0.3333\n",
            "Epoch 11/50\n",
            "113/113 [==============================] - 5s 41ms/step - loss: 1.9820 - accuracy: 0.2359 - val_loss: 2.0726 - val_accuracy: 0.3125\n",
            "Epoch 12/50\n",
            "113/113 [==============================] - 5s 40ms/step - loss: 1.9619 - accuracy: 0.2470 - val_loss: 2.0967 - val_accuracy: 0.2708\n",
            "Epoch 13/50\n",
            "113/113 [==============================] - 5s 41ms/step - loss: 1.9477 - accuracy: 0.2691 - val_loss: 2.1472 - val_accuracy: 0.2083\n",
            "Epoch 14/50\n",
            "113/113 [==============================] - 5s 40ms/step - loss: 1.9382 - accuracy: 0.2492 - val_loss: 2.0446 - val_accuracy: 0.3125\n",
            "Epoch 15/50\n",
            "113/113 [==============================] - 5s 40ms/step - loss: 1.9272 - accuracy: 0.2591 - val_loss: 2.0801 - val_accuracy: 0.1250\n",
            "Epoch 16/50\n",
            "113/113 [==============================] - 5s 40ms/step - loss: 1.9248 - accuracy: 0.2614 - val_loss: 2.0502 - val_accuracy: 0.3125\n",
            "Epoch 17/50\n",
            "113/113 [==============================] - 5s 41ms/step - loss: 1.9165 - accuracy: 0.2525 - val_loss: 2.0293 - val_accuracy: 0.2708\n",
            "Epoch 18/50\n",
            "113/113 [==============================] - 5s 40ms/step - loss: 1.9168 - accuracy: 0.2547 - val_loss: 2.0821 - val_accuracy: 0.2500\n",
            "Epoch 19/50\n",
            "113/113 [==============================] - 5s 40ms/step - loss: 1.8988 - accuracy: 0.2580 - val_loss: 2.0064 - val_accuracy: 0.2917\n",
            "Epoch 20/50\n",
            "113/113 [==============================] - 5s 41ms/step - loss: 1.9014 - accuracy: 0.2514 - val_loss: 2.0049 - val_accuracy: 0.2708\n",
            "Epoch 21/50\n",
            "113/113 [==============================] - 5s 41ms/step - loss: 1.8921 - accuracy: 0.2802 - val_loss: 2.0244 - val_accuracy: 0.2708\n",
            "Epoch 22/50\n",
            "113/113 [==============================] - 5s 45ms/step - loss: 1.8983 - accuracy: 0.2625 - val_loss: 2.0339 - val_accuracy: 0.2708\n",
            "Epoch 23/50\n",
            "113/113 [==============================] - 5s 41ms/step - loss: 1.8994 - accuracy: 0.2602 - val_loss: 2.0349 - val_accuracy: 0.2708\n",
            "Epoch 24/50\n",
            "113/113 [==============================] - 5s 40ms/step - loss: 1.8907 - accuracy: 0.2702 - val_loss: 2.0325 - val_accuracy: 0.2500\n",
            "Epoch 25/50\n",
            "113/113 [==============================] - 5s 40ms/step - loss: 1.8914 - accuracy: 0.2691 - val_loss: 1.9897 - val_accuracy: 0.3125\n",
            "Epoch 26/50\n",
            "113/113 [==============================] - 5s 40ms/step - loss: 1.8776 - accuracy: 0.2746 - val_loss: 2.0282 - val_accuracy: 0.2917\n",
            "Epoch 27/50\n",
            "113/113 [==============================] - 5s 40ms/step - loss: 1.8947 - accuracy: 0.2669 - val_loss: 2.0173 - val_accuracy: 0.2917\n",
            "Epoch 28/50\n",
            "113/113 [==============================] - 5s 45ms/step - loss: 1.8851 - accuracy: 0.2547 - val_loss: 2.0432 - val_accuracy: 0.2292\n",
            "Epoch 29/50\n",
            "113/113 [==============================] - 5s 41ms/step - loss: 1.8794 - accuracy: 0.2669 - val_loss: 2.0020 - val_accuracy: 0.2917\n"
          ]
        },
        {
          "output_type": "display_data",
          "data": {
            "text/plain": [
              "<Figure size 432x288 with 1 Axes>"
            ],
            "image/png": "[encoded data removed]"
          },
          "metadata": {
            "needs_background": "light"
          }
        }
      ],
      "source": [
        "history=model.fit(X_train, y_train, epochs=50, batch_size=8, validation_split = 0.05, callbacks=[callback], verbose=1)\n",
        "plt.plot(history.history['accuracy'], label='train_acc')\n",
        "plt.plot(history.history['val_accuracy'], label='val_acc')\n",
        "plt.xlabel('Epoch')\n",
        "plt.ylabel('Accuracy')\n",
        "plt.legend(loc='lower right')\n",
        "plt.legend()\n",
        "plt.show()"
      ]
    },
    {
      "cell_type": "markdown",
      "source": [
        "## Testing"
      ],
      "metadata": {
        "id": "kQNnr81_jKW4"
      }
    },
    {
      "cell_type": "code",
      "source": [
        "# Testing\n",
        "predictions= model.predict(X_test)\n",
        "predictions=np.argmax(predictions, axis=1)\n",
        "cm = confusion_matrix(y_test, predictions)\n",
        "disp = ConfusionMatrixDisplay(confusion_matrix=cm)\n",
        "disp.plot()\n",
        "plt.show()\n",
        "# evaluate predictions\n",
        "accuracy = accuracy_score(y_test, predictions)\n",
        "print(\"Testing Accuracy: %.2f%%\" % (accuracy * 100.0))"
      ],
      "metadata": {
        "colab": {
          "base_uri": "https://localhost:8080/",
          "height": 318
        },
        "id": "PN8Ngb211TKG",
        "outputId": "9f75600b-080f-4471-ce2b-cf3ce8b273b2"
      },
      "execution_count": null,
      "outputs": [
        {
          "output_type": "stream",
          "name": "stdout",
          "text": [
            "2/2 [==============================] - 0s 13ms/step\n"
          ]
        },
        {
          "output_type": "display_data",
          "data": {
            "text/plain": [
              "<Figure size 432x288 with 2 Axes>"
            ],
            "image/png": "[encoded data removed]"
          },
          "metadata": {
            "needs_background": "light"
          }
        },
        {
          "output_type": "stream",
          "name": "stdout",
          "text": [
            "Testing Accuracy: 27.45%\n"
          ]
        }
      ]
    }
  ]
}